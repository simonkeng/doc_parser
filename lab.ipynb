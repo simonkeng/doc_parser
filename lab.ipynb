{
 "cells": [
  {
   "cell_type": "code",
   "execution_count": 1,
   "metadata": {},
   "outputs": [],
   "source": [
    "import nlp\n",
    "import spacy"
   ]
  },
  {
   "cell_type": "code",
   "execution_count": 2,
   "metadata": {},
   "outputs": [],
   "source": [
    "data = nlp.read('pdf-data.pkl')\n",
    "doc = nlp.process(data)"
   ]
  },
  {
   "cell_type": "code",
   "execution_count": 3,
   "metadata": {},
   "outputs": [
    {
     "data": {
      "text/plain": [
       "'n Treatise of Hermes\\nIII. Commentary\\nIV. Commentary (continued)\\nBOOK TWO\\nV. The Magnetic Theory\\nVI. The Six Keys of Eudoxus\\nVII. Commentary\\nVIII. The Magical view\\nBOOK THREE\\nIX. Coelum Terrae by Thomas Vaughan\\nConclusion\\n\\n\\x0cIsrael Regardie - The Philosophers Stone\\n\\nBOOK ONE\\nCHAPTER ONE\\nINTRODUCTION\\nThe word Alchemy is an Arabic term consisting of the article al and the noun khemi. We may take\\nit that the noun refers to Egypt, whose Coptic name is Khem. The word, then, would yield the phrase\\n“the Egyptian matter”, or “that which appertains to Egypt”. The hypothesis is that the Mohammedan\\ngrammarians held that the alchemical art was derived from that wisdom of the Egyptians which was the\\nproud '"
      ]
     },
     "execution_count": 3,
     "metadata": {},
     "output_type": "execute_result"
    }
   ],
   "source": [
    "data[100:800]"
   ]
  },
  {
   "cell_type": "code",
   "execution_count": 4,
   "metadata": {},
   "outputs": [
    {
     "data": {
      "text/plain": [
       "of the article al and the noun khemi. We may take\n",
       "it that the noun refers to Egypt, whose Coptic name is Khem. The word, then, would yield the phrase\n",
       "“the Egyptian matter”, or “that which appertains to Egypt”. The hypothesis is that the Mohammedan\n",
       "grammarians held that the alchemical art was derived from that wisdom of the Egyptians which was the\n",
       "proud boast of Moses, Plato, and Pythagoras, and the source, therefore, of their illuminations. If,\n",
       "however, we assume the word to be of Greek origin, as do some authorities, then it implies nothing\n",
       "more than the chemical art, the method of mingling and making infusions. Originally all that chemistry\n",
       "meant was the art of extracting juices from plants and herbs.\n",
       "Modern scholarship still leaves unsolved the question as to whether alchemical treatises should be\n",
       "classified as mystical, magical, or simply primitively chemical. The most reasonable view is, in my\n",
       "opinion, not to place them exclusively in any one category"
      ]
     },
     "execution_count": 4,
     "metadata": {},
     "output_type": "execute_result"
    }
   ],
   "source": [
    "doc[100:300]"
   ]
  },
  {
   "cell_type": "code",
   "execution_count": 5,
   "metadata": {},
   "outputs": [
    {
     "name": "stdout",
     "output_type": "stream",
     "text": [
      "may\n",
      "take\n",
      "refers\n",
      "is\n",
      "would\n",
      "yield\n",
      "appertains\n",
      "is\n",
      "held\n",
      "was\n",
      "derived\n",
      "was\n",
      "assume\n",
      "be\n",
      "do\n",
      "implies\n",
      "making\n",
      "meant\n",
      "was\n",
      "extracting\n"
     ]
    }
   ],
   "source": [
    "# list verbs in the document\n",
    "for token in doc[100:250]:\n",
    "\n",
    "    if token.pos_ == 'VERB':\n",
    "        print(token.text)"
   ]
  },
  {
   "cell_type": "code",
   "execution_count": 6,
   "metadata": {},
   "outputs": [],
   "source": [
    "# list geopolitical entities found\n",
    "\n",
    "items = list()\n",
    "\n",
    "for ent in doc.ents:\n",
    "    \n",
    "    if ent.label_ == 'GPE':\n",
    "        items.append(ent.text)\n",
    "\n",
    "# remove \\n chars from list\n",
    "cleaned = list()\n",
    "\n",
    "for i in items:\n",
    "    if '\\n' not in i:\n",
    "        cleaned.append(i)"
   ]
  },
  {
   "cell_type": "code",
   "execution_count": 7,
   "metadata": {},
   "outputs": [
    {
     "data": {
      "text/plain": [
       "['Israel', '\\n', '\\n', 'Egypt', '\\n', 'Egypt', '\\n', 'Pythagoras', '\\n', '\\n']"
      ]
     },
     "execution_count": 7,
     "metadata": {},
     "output_type": "execute_result"
    }
   ],
   "source": [
    "items[0:10]"
   ]
  },
  {
   "cell_type": "code",
   "execution_count": 8,
   "metadata": {},
   "outputs": [
    {
     "data": {
      "text/plain": [
       "['Israel',\n",
       " 'Egypt',\n",
       " 'Egypt',\n",
       " 'Pythagoras',\n",
       " 'India',\n",
       " 'Antimony',\n",
       " 'Psychotherapy',\n",
       " 'Israel',\n",
       " 'Psychotherapy',\n",
       " 'Sulphur',\n",
       " 'Quintessence',\n",
       " 'Salt, Sulphur',\n",
       " 'Quintessence',\n",
       " 'Sulphur',\n",
       " 'Quintessence',\n",
       " 'Jung',\n",
       " 'Religion',\n",
       " 'Geley',\n",
       " 'Materialized',\n",
       " 'Philosopher']"
      ]
     },
     "execution_count": 8,
     "metadata": {},
     "output_type": "execute_result"
    }
   ],
   "source": [
    "cleaned[0:20]"
   ]
  },
  {
   "cell_type": "code",
   "execution_count": 9,
   "metadata": {},
   "outputs": [
    {
     "name": "stdout",
     "output_type": "stream",
     "text": [
      "Match:  1936 Sentence:  This was written in December 1936.\n",
      "Match:  1938 Sentence:  At this moment (March 1938)\n",
      "Match:  1600 Sentence:  The Secret Tradition in Alchemy, first\n",
      "appeared at Leipzig in 1600 under the editorship of Dr. Guecias, and again in 1610.\n",
      "Match:  1610 Sentence:  The Secret Tradition in Alchemy, first\n",
      "appeared at Leipzig in 1600 under the editorship of Dr. Guecias, and again in 1610.\n",
      "Match:  1766 Sentence:  Franz Anton Mesmer was born in Austria in I734, and in 1766 in Vienna he became an M.D.\n",
      "Match:  1811 Sentence:  His second discovery was made in 1811.\n",
      "Match:  1842 Sentence:  It was in 1842 that he first began experimental work with mesmerism, and\n",
      "seems to have been the first modern practitioner deliberately to use the technique of fixation of sight\n",
      "and suggestion instead of passes and the laying on of hands.\n",
      "Match:  1842 Sentence:  From 1842 to\n",
      "more or less the end of the century there is a break in the history of hypnotism in England.\n",
      "Match:  1846 Sentence:  Written in 1846 when most other\n",
      "mesmerists and hypnotists were engaged solely in therapeutic work or in the application of the trance\n",
      "state to the production of psychic phenomena such as clairvoyance and telepathy, etc., this woman and\n",
      "her father., Mr. South, were displaying an acumen and insight which are literally amazing.\n",
      "Match:  1723 Sentence:  This latter was translated from French into English in 1723.\n",
      "Match:  1621 Sentence:  But verily it is to no purpose\n",
      "*\n",
      "\n",
      "Thomas Vaughan was born in Llansaintffraid on the banks of the Usk in 1621.\n"
     ]
    }
   ],
   "source": [
    "# extract any year found in the text, \n",
    "# and print the sentence it came from \n",
    "for token in doc:\n",
    "    \n",
    "    if token.shape_ == 'dddd':\n",
    "        print('Match: ', token.text, 'Sentence: ', token.sent)"
   ]
  },
  {
   "cell_type": "code",
   "execution_count": 10,
   "metadata": {},
   "outputs": [
    {
     "name": "stdout",
     "output_type": "stream",
     "text": [
      "Match:  THE\n",
      "Match:  ONE\n",
      "Match:  III\n",
      "Match:  TWO\n",
      "Match:  VII\n",
      "Match:  ONE\n",
      "Match:  ONE\n",
      "Match:  TWO\n",
      "Match:  TWO\n",
      "Match:  THE\n",
      "Match:  SIX\n",
      "Match:  THE\n",
      "Match:  KEY\n",
      "Match:  THE\n",
      "Match:  KEY\n",
      "Match:  THE\n",
      "Match:  KEY\n",
      "Match:  THE\n",
      "Match:  KEY\n",
      "Match:  THE\n",
      "Match:  KEY\n",
      "Match:  THE\n",
      "Match:  KEY\n",
      "Match:  CUP\n",
      "Match:  THE\n",
      "Match:  III\n"
     ]
    }
   ],
   "source": [
    "# match this shape: \"AAA\"\n",
    "for token in doc:\n",
    "    if token.shape_ == 'XXX':\n",
    "        print('Match: ', token.text)"
   ]
  }
 ],
 "metadata": {
  "kernelspec": {
   "display_name": "Python 3",
   "language": "python",
   "name": "python3"
  },
  "language_info": {
   "codemirror_mode": {
    "name": "ipython",
    "version": 3
   },
   "file_extension": ".py",
   "mimetype": "text/x-python",
   "name": "python",
   "nbconvert_exporter": "python",
   "pygments_lexer": "ipython3",
   "version": "3.6.5"
  }
 },
 "nbformat": 4,
 "nbformat_minor": 2
}
